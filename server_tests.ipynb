{
 "cells": [
  {
   "cell_type": "code",
   "execution_count": 59,
   "metadata": {},
   "outputs": [
    {
     "data": {
      "text/plain": [
       "{'detail': [{'loc': ['path', 'item_price'],\n",
       "   'msg': 'value is not a valid float',\n",
       "   'type': 'type_error.float'}]}"
      ]
     },
     "execution_count": 59,
     "metadata": {},
     "output_type": "execute_result"
    }
   ],
   "source": [
    "import requests\n",
    "\n",
    "base_url = 'http://127.0.0.1:8000/items/'\n",
    "\n",
    "\n",
    "item_data = {'item_id':19774, 'name':'majonez Pomorski', 'price':5.78}\n",
    "payload = {'item_id': 178, 'q': 'randomQQQQ', 'short':True}\n",
    "\n",
    "requests.post(base_url+'189/jakis_numer/majonez Pomorski').json()"
   ]
  }
 ],
 "metadata": {
  "kernelspec": {
   "display_name": "fastapi_myenv",
   "language": "python",
   "name": "fastapi_myenv"
  },
  "language_info": {
   "codemirror_mode": {
    "name": "ipython",
    "version": 3
   },
   "file_extension": ".py",
   "mimetype": "text/x-python",
   "name": "python",
   "nbconvert_exporter": "python",
   "pygments_lexer": "ipython3",
   "version": "3.8.0"
  }
 },
 "nbformat": 4,
 "nbformat_minor": 4
}
